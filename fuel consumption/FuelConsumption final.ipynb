{
 "cells": [
  {
   "cell_type": "markdown",
   "metadata": {},
   "source": [
    "                                           FUEL CONSUMPTION"
   ]
  },
  {
   "cell_type": "markdown",
   "metadata": {},
   "source": [
    "QUESTION: Analyze the dataset given to you and create a machine learning Algorithm to best predict the CO2EMISSIONS"
   ]
  },
  {
   "cell_type": "code",
   "execution_count": null,
   "metadata": {},
   "outputs": [],
   "source": [
    "#Import the necessary modules and initialize your dataset\n",
    "import pandas as pd\n",
    "from scipy import stats\n",
    "import matplotlib.pyplot as plt\n",
    "from sklearn.metrics import r2_score\n",
    "from sklearn.metrics import mean_squared_error, mean_absolute_error\n",
    "import numpy as np\n",
    "\n",
    "df = pd.read_csv('FuelConsumptionCo2.csv')"
   ]
  },
  {
   "cell_type": "markdown",
   "metadata": {},
   "source": [
    "Next we filter the dataset by removing the object type and leaving the float and int data types"
   ]
  },
  {
   "cell_type": "code",
   "execution_count": null,
   "metadata": {},
   "outputs": [],
   "source": [
    "mask = df.dtypes != np.object\n",
    "col = df.columns[mask]\n",
    "col2 = list(col)\n",
    "col2.pop()\n",
    "col2.remove('MODELYEAR')"
   ]
  },
  {
   "cell_type": "markdown",
   "metadata": {},
   "source": [
    "Here we start our regressional analyses by drawing a scatter plot of each independent variable against the dependent variable(CO2EMISSIONS) to get the kind of approach we are to use(Polynomial or linear) and save the graphs on my system"
   ]
  },
  {
   "cell_type": "code",
   "execution_count": null,
   "metadata": {},
   "outputs": [],
   "source": [
    "lip = ['C:\\\\Users\\\\USER\\\\Downloads\\\\co2-eng.png', 'C:\\\\Users\\\\USER\\\\Downloads\\\\co2-cyl.png', \n",
    "       'C:\\\\Users\\\\USER\\\\Downloads\\\\co2-fuelcity.png', 'C:\\\\Users\\\\USER\\\\Downloads\\\\co2-fuelhwy.png', \n",
    "       'C:\\\\Users\\\\USER\\\\Downloads\\\\co2-fuelcomb.png', 'C:\\\\Users\\\\USER\\\\Downloads\\\\co2-fuelmpglin.png']\n",
    "x = 0\n",
    "while x < len(col2):\n",
    "    X = df[col2[x]]\n",
    "    y = df['CO2EMISSIONS']\n",
    "    \n",
    "    fig = plt.figure(figsize=(8,5))\n",
    "    \n",
    "    plt.xlabel(col2[x])\n",
    "    plt.ylabel('CO2EMISSIONS')\n",
    "    plt.scatter(X, y)\n",
    "    plt.show()\n",
    "    print(r)\n",
    "    print(std_err)\n",
    "    fig.savefig(lip[x])\n",
    "    \n",
    "    x += 1"
   ]
  },
  {
   "cell_type": "markdown",
   "metadata": {},
   "source": [
    "From the Scatter plot we see that 5 out of the 6 have a linear shape so we are going to take a linear approach then the last one has a curve shape which means we are going to take a polynomial approach.\n",
    "now we plot our line on the scatter plot"
   ]
  },
  {
   "cell_type": "code",
   "execution_count": null,
   "metadata": {},
   "outputs": [],
   "source": [
    "col2.remove('FUELCONSUMPTION_COMB_MPG') \n",
    "lip = ['C:\\\\Users\\\\USER\\\\Downloads\\\\co2-eng.png', 'C:\\\\Users\\\\USER\\\\Downloads\\\\co2-cyl.png', \n",
    "       'C:\\\\Users\\\\USER\\\\Downloads\\\\co2-fuelcity.png', 'C:\\\\Users\\\\USER\\\\Downloads\\\\co2-fuelhwy.png', \n",
    "       'C:\\\\Users\\\\USER\\\\Downloads\\\\co2-fuelcomb.png', 'C:\\\\Users\\\\USER\\\\Downloads\\\\co2-fuelmpglin.png']\n",
    "x = 0\n",
    "while x < len(col2):\n",
    "    X = df[col2[x]]\n",
    "    y = df['CO2EMISSIONS']\n",
    "    \n",
    "    fig = plt.figure(figsize=(8,5))\n",
    "    \n",
    "    slope, intercept, r, p, std_err = stats.linregress(X,y)\n",
    "    def mine(x):\n",
    "        return slope * x + intercept\n",
    "    mymodel = list(map(mine, X))\n",
    "    plt.xlabel(col2[x])\n",
    "    plt.ylabel('CO2EMISSIONS')\n",
    "    plt.scatter(X, y)\n",
    "    plt.plot(X, mymodel)\n",
    "    plt.show()\n",
    "    print(r)\n",
    "    print(std_err)\n",
    "    fig.savefig(lip[x])\n",
    "    \n",
    "    x += 1"
   ]
  },
  {
   "cell_type": "code",
   "execution_count": null,
   "metadata": {},
   "outputs": [],
   "source": [
    "x = df['FUELCONSUMPTION_COMB_MPG']\n",
    "y = df['CO2EMISSIONS']\n",
    "\n",
    "train_x = x[300:]\n",
    "train_y = y[300:]\n",
    "\n",
    "test_x = x[:300]\n",
    "test_y = y[:300]\n",
    "\n",
    "fig = plt.figure(figsize=(8,5))\n",
    "\n",
    "mymodel = np.poly1d(np.polyfit(train_x, train_y, 6))\n",
    "\n",
    "myline = np.linspace(0, 70, 500)\n",
    "plt.xlabel('FUELCONSUMPTION_COMB_MPG')\n",
    "plt.ylabel('CO2EMISSIONS')\n",
    "plt.title('Plot of CO2EMISSIONS against FUELCONSUMPTION_COMB_MPG')\n",
    "\n",
    "plt.scatter(train_x, train_y)\n",
    "plt.plot(myline, mymodel(myline))\n",
    "plt.show()\n",
    "fig.savefig('C:\\\\Users\\\\USER\\\\Downloads\\\\co2-fuelmpg.png')"
   ]
  },
  {
   "cell_type": "markdown",
   "metadata": {},
   "source": [
    "After analyzing the graphs we find out that the polynomial graph is the one with the closest relationship and the one with the best closeness of data.\n",
    "Then we analyze the polynomial graph with a machine learning model by training it with part of the data given to us so we will be able to test it with the remaining data given to us and we are going to get the relationship"
   ]
  },
  {
   "cell_type": "code",
   "execution_count": null,
   "metadata": {},
   "outputs": [],
   "source": [
    "from sklearn.metrics import r2_score\n",
    "r2 = r2_score(train_y, mymodel(train_x))\n",
    "\n",
    "print(r2)"
   ]
  },
  {
   "cell_type": "markdown",
   "metadata": {},
   "source": [
    "We see that the relationship is over 80%"
   ]
  },
  {
   "cell_type": "code",
   "execution_count": null,
   "metadata": {},
   "outputs": [],
   "source": [
    "real_value = df['CO2EMISSIONS'][2]\n",
    "print(mymodel(48), real_value, sep=', ')"
   ]
  },
  {
   "cell_type": "markdown",
   "metadata": {},
   "source": [
    "We also see that a predicted value and the actual value is really close. Now we want to know the mean absolute error to see if the predicted values and the real values maintains their closeness"
   ]
  },
  {
   "cell_type": "code",
   "execution_count": null,
   "metadata": {},
   "outputs": [],
   "source": [
    "pred_value = []\n",
    "fuel = df['FUELCONSUMPTION_COMB_MPG']\n",
    "for x in fuel:\n",
    "    y = mymodel(x)\n",
    "    pred_value.append(y)"
   ]
  },
  {
   "cell_type": "code",
   "execution_count": null,
   "metadata": {},
   "outputs": [],
   "source": [
    "from sklearn.metrics import mean_squared_error, mean_absolute_error\n",
    "co2 = df['CO2EMISSIONS']\n",
    "mean_squared_error(pred_value, co2)\n",
    "mean_absolute_error(pred_value, co2)"
   ]
  },
  {
   "cell_type": "markdown",
   "metadata": {},
   "source": [
    "We get a mean absolute error of 11.843 which is very good for a dataset of just over 1000 data.\n",
    "Therefore we can use the model to predict future values of the CO2EMISSIONS, thank you."
   ]
  }
 ],
 "metadata": {
  "kernelspec": {
   "display_name": "Python 3",
   "language": "python",
   "name": "python3"
  },
  "language_info": {
   "codemirror_mode": {
    "name": "ipython",
    "version": 3
   },
   "file_extension": ".py",
   "mimetype": "text/x-python",
   "name": "python",
   "nbconvert_exporter": "python",
   "pygments_lexer": "ipython3",
   "version": "3.7.4"
  }
 },
 "nbformat": 4,
 "nbformat_minor": 4
}
